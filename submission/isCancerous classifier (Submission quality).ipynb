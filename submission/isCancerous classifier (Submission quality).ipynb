{
 "cells": [
  {
   "cell_type": "markdown",
   "id": "b9161747",
   "metadata": {},
   "source": [
    "# Classify images according to isCancerous\n",
    "In this notebook the goal is to classify the images according to their isCancerous state (0 or 1)"
   ]
  },
  {
   "cell_type": "markdown",
   "id": "87a8a735",
   "metadata": {},
   "source": [
    "# Setup\n",
    "1. Import libraries\n",
    "2. Setting up data sets\n",
    "3. Initialize learning curve function\n",
    "\n",
    "We will also concatenate data_labels_mainData.csv and data_labels_extraData.csv together for this model as both contains data for the column isCancerous."
   ]
  },
  {
   "cell_type": "code",
   "execution_count": 1,
   "id": "fcc0f252",
   "metadata": {},
   "outputs": [
    {
     "data": {
      "text/plain": [
       "'2.3.0'"
      ]
     },
     "execution_count": 1,
     "metadata": {},
     "output_type": "execute_result"
    }
   ],
   "source": [
    "import tensorflow as tf\n",
    "AUTOTUNE = tf.data.experimental.AUTOTUNE\n",
    "\n",
    "import IPython.display as display\n",
    "from PIL import Image\n",
    "import numpy as np\n",
    "import matplotlib.pyplot as plt\n",
    "import os\n",
    "\n",
    "import pandas as pd\n",
    "\n",
    "tf.__version__"
   ]
  },
  {
   "cell_type": "code",
   "execution_count": 25,
   "id": "b488487a",
   "metadata": {},
   "outputs": [
    {
     "data": {
      "text/html": [
       "<div>\n",
       "<style scoped>\n",
       "    .dataframe tbody tr th:only-of-type {\n",
       "        vertical-align: middle;\n",
       "    }\n",
       "\n",
       "    .dataframe tbody tr th {\n",
       "        vertical-align: top;\n",
       "    }\n",
       "\n",
       "    .dataframe thead th {\n",
       "        text-align: right;\n",
       "    }\n",
       "</style>\n",
       "<table border=\"1\" class=\"dataframe\">\n",
       "  <thead>\n",
       "    <tr style=\"text-align: right;\">\n",
       "      <th></th>\n",
       "      <th>InstanceID</th>\n",
       "      <th>patientID</th>\n",
       "      <th>ImageName</th>\n",
       "      <th>cellTypeName</th>\n",
       "      <th>cellType</th>\n",
       "      <th>isCancerous</th>\n",
       "    </tr>\n",
       "  </thead>\n",
       "  <tbody>\n",
       "    <tr>\n",
       "      <th>0</th>\n",
       "      <td>22405</td>\n",
       "      <td>1</td>\n",
       "      <td>22405.png</td>\n",
       "      <td>fibroblast</td>\n",
       "      <td>0</td>\n",
       "      <td>0</td>\n",
       "    </tr>\n",
       "    <tr>\n",
       "      <th>1</th>\n",
       "      <td>22406</td>\n",
       "      <td>1</td>\n",
       "      <td>22406.png</td>\n",
       "      <td>fibroblast</td>\n",
       "      <td>0</td>\n",
       "      <td>0</td>\n",
       "    </tr>\n",
       "    <tr>\n",
       "      <th>2</th>\n",
       "      <td>22407</td>\n",
       "      <td>1</td>\n",
       "      <td>22407.png</td>\n",
       "      <td>fibroblast</td>\n",
       "      <td>0</td>\n",
       "      <td>0</td>\n",
       "    </tr>\n",
       "    <tr>\n",
       "      <th>3</th>\n",
       "      <td>22408</td>\n",
       "      <td>1</td>\n",
       "      <td>22408.png</td>\n",
       "      <td>fibroblast</td>\n",
       "      <td>0</td>\n",
       "      <td>0</td>\n",
       "    </tr>\n",
       "    <tr>\n",
       "      <th>4</th>\n",
       "      <td>22409</td>\n",
       "      <td>1</td>\n",
       "      <td>22409.png</td>\n",
       "      <td>fibroblast</td>\n",
       "      <td>0</td>\n",
       "      <td>0</td>\n",
       "    </tr>\n",
       "  </tbody>\n",
       "</table>\n",
       "</div>"
      ],
      "text/plain": [
       "   InstanceID  patientID  ImageName cellTypeName  cellType  isCancerous\n",
       "0       22405          1  22405.png   fibroblast         0            0\n",
       "1       22406          1  22406.png   fibroblast         0            0\n",
       "2       22407          1  22407.png   fibroblast         0            0\n",
       "3       22408          1  22408.png   fibroblast         0            0\n",
       "4       22409          1  22409.png   fibroblast         0            0"
      ]
     },
     "execution_count": 25,
     "metadata": {},
     "output_type": "execute_result"
    }
   ],
   "source": [
    "from sklearn.model_selection import train_test_split\n",
    "\n",
    "\n",
    "data1 = pd.read_csv('./data_labels_mainData.csv')\n",
    "data2 = pd.read_csv('./data_labels_extraData.csv')\n",
    "\n",
    "data1.head()"
   ]
  },
  {
   "cell_type": "code",
   "execution_count": 26,
   "id": "167d4faf",
   "metadata": {},
   "outputs": [
    {
     "data": {
      "text/html": [
       "<div>\n",
       "<style scoped>\n",
       "    .dataframe tbody tr th:only-of-type {\n",
       "        vertical-align: middle;\n",
       "    }\n",
       "\n",
       "    .dataframe tbody tr th {\n",
       "        vertical-align: top;\n",
       "    }\n",
       "\n",
       "    .dataframe thead th {\n",
       "        text-align: right;\n",
       "    }\n",
       "</style>\n",
       "<table border=\"1\" class=\"dataframe\">\n",
       "  <thead>\n",
       "    <tr style=\"text-align: right;\">\n",
       "      <th></th>\n",
       "      <th>InstanceID</th>\n",
       "      <th>patientID</th>\n",
       "      <th>ImageName</th>\n",
       "      <th>isCancerous</th>\n",
       "    </tr>\n",
       "  </thead>\n",
       "  <tbody>\n",
       "    <tr>\n",
       "      <th>0</th>\n",
       "      <td>12681</td>\n",
       "      <td>61</td>\n",
       "      <td>12681.png</td>\n",
       "      <td>0</td>\n",
       "    </tr>\n",
       "    <tr>\n",
       "      <th>1</th>\n",
       "      <td>12682</td>\n",
       "      <td>61</td>\n",
       "      <td>12682.png</td>\n",
       "      <td>0</td>\n",
       "    </tr>\n",
       "    <tr>\n",
       "      <th>2</th>\n",
       "      <td>12683</td>\n",
       "      <td>61</td>\n",
       "      <td>12683.png</td>\n",
       "      <td>0</td>\n",
       "    </tr>\n",
       "    <tr>\n",
       "      <th>3</th>\n",
       "      <td>12684</td>\n",
       "      <td>61</td>\n",
       "      <td>12684.png</td>\n",
       "      <td>0</td>\n",
       "    </tr>\n",
       "    <tr>\n",
       "      <th>4</th>\n",
       "      <td>12685</td>\n",
       "      <td>61</td>\n",
       "      <td>12685.png</td>\n",
       "      <td>0</td>\n",
       "    </tr>\n",
       "  </tbody>\n",
       "</table>\n",
       "</div>"
      ],
      "text/plain": [
       "   InstanceID  patientID  ImageName  isCancerous\n",
       "0       12681         61  12681.png            0\n",
       "1       12682         61  12682.png            0\n",
       "2       12683         61  12683.png            0\n",
       "3       12684         61  12684.png            0\n",
       "4       12685         61  12685.png            0"
      ]
     },
     "execution_count": 26,
     "metadata": {},
     "output_type": "execute_result"
    }
   ],
   "source": [
    "data2.head()"
   ]
  },
  {
   "cell_type": "code",
   "execution_count": 27,
   "id": "dc2b6e94",
   "metadata": {},
   "outputs": [],
   "source": [
    "data1_edited = data1.drop(columns=['cellTypeName', 'cellType'])"
   ]
  },
  {
   "cell_type": "code",
   "execution_count": 28,
   "id": "498703bf",
   "metadata": {},
   "outputs": [],
   "source": [
    "concatenated_dataframe = pd.concat([data1_edited, data2])"
   ]
  },
  {
   "cell_type": "code",
   "execution_count": 29,
   "id": "4d16bcff",
   "metadata": {},
   "outputs": [
    {
     "name": "stdout",
     "output_type": "stream",
     "text": [
      "(9896, 6)\n",
      "(10384, 4)\n",
      "(20280, 4)\n"
     ]
    }
   ],
   "source": [
    "print(data1.shape)\n",
    "print(data2.shape)\n",
    "print(concatenated_dataframe.shape)"
   ]
  },
  {
   "cell_type": "code",
   "execution_count": 30,
   "id": "ce68c634",
   "metadata": {},
   "outputs": [
    {
     "name": "stdout",
     "output_type": "stream",
     "text": [
      "Train data : 12168, Val Data: 4056, Test Data: 4056\n"
     ]
    }
   ],
   "source": [
    "data = concatenated_dataframe\n",
    "train_data, test_data = train_test_split(data, test_size=0.2, random_state=42)\n",
    "train_data, val_data = train_test_split(train_data, test_size=0.25, random_state=42)\n",
    "\n",
    "print(\"Train data : {}, Val Data: {}, Test Data: {}\".format(train_data.shape[0], val_data.shape[0], test_data.shape[0]))"
   ]
  },
  {
   "cell_type": "markdown",
   "id": "d7192004",
   "metadata": {},
   "source": [
    "# EDA"
   ]
  },
  {
   "cell_type": "code",
   "execution_count": 31,
   "id": "73589fa3",
   "metadata": {},
   "outputs": [
    {
     "data": {
      "image/png": "[encoded data removed]",
      "text/plain": [
       "<Figure size 720x720 with 4 Axes>"
      ]
     },
     "metadata": {
      "needs_background": "light"
     },
     "output_type": "display_data"
    }
   ],
   "source": [
    "from PIL import Image\n",
    "\n",
    "label_names = {'isCancerous' : 0, 'notCancerous' : 1}\n",
    "d_inv = {v: k for k, v in label_names.items()}\n",
    "\n",
    "img_list = list('./patch_images/'+train_data['ImageName'])\n",
    "target = train_data['isCancerous']\n",
    "target_list = list(target)\n",
    "\n",
    "fig = plt.figure(figsize=[10,10])\n",
    "\n",
    "for i in np.arange(4):\n",
    "    plt.subplot(1, 4, i+1)\n",
    "    img = Image.open(img_list[i])\n",
    "    \n",
    "    plt.imshow(img)\n",
    "    plt.title(d_inv[int(target_list[i])])"
   ]
  },
  {
   "cell_type": "code",
   "execution_count": 32,
   "id": "9d7c0e68",
   "metadata": {},
   "outputs": [
    {
     "name": "stdout",
     "output_type": "stream",
     "text": [
      "Image size \n",
      "H:27 W:27 C:3\n"
     ]
    }
   ],
   "source": [
    "# check image size\n",
    "\n",
    "img = Image.open(img_list[100])\n",
    "img_numpy = np.ascontiguousarray(img, dtype=np.float32)\n",
    "print('Image size \\nH:{} W:{} C:{}'.format(img_numpy.shape[0], img_numpy.shape[1], img_numpy.shape[2]))"
   ]
  },
  {
   "cell_type": "code",
   "execution_count": 33,
   "id": "10cd5fd1",
   "metadata": {},
   "outputs": [
    {
     "data": {
      "image/png": "[encoded data removed]",
      "text/plain": [
       "<Figure size 432x288 with 1 Axes>"
      ]
     },
     "metadata": {
      "needs_background": "light"
     },
     "output_type": "display_data"
    },
    {
     "data": {
      "image/png": "[encoded data removed]",
      "text/plain": [
       "<Figure size 432x288 with 1 Axes>"
      ]
     },
     "metadata": {
      "needs_background": "light"
     },
     "output_type": "display_data"
    },
    {
     "data": {
      "image/png": "[encoded data removed]",
      "text/plain": [
       "<Figure size 432x288 with 1 Axes>"
      ]
     },
     "metadata": {
      "needs_background": "light"
     },
     "output_type": "display_data"
    },
    {
     "data": {
      "image/png": "[encoded data removed]",
      "text/plain": [
       "<Figure size 432x288 with 1 Axes>"
      ]
     },
     "metadata": {
      "needs_background": "light"
     },
     "output_type": "display_data"
    }
   ],
   "source": [
    "fibroblast = data1[data1['cellType']==0]\n",
    "inflammatory = data1[data1['cellType']==1]\n",
    "epithelial = data1[data1['cellType']==2]\n",
    "others = data1[data1['cellType']==3]\n",
    "\n",
    "\n",
    "plt.hist(fibroblast['isCancerous'])\n",
    "plt.title('fibroblast')\n",
    "plt.show()\n",
    "\n",
    "plt.hist(inflammatory['isCancerous'])\n",
    "plt.title('inflammatory')\n",
    "plt.show()\n",
    "\n",
    "plt.hist(epithelial['isCancerous'])\n",
    "plt.title('epithelial')\n",
    "plt.show()\n",
    "\n",
    "plt.hist(others['isCancerous'])\n",
    "plt.title('others')\n",
    "plt.show()"
   ]
  },
  {
   "cell_type": "markdown",
   "id": "d389a2cb",
   "metadata": {},
   "source": [
    "Observation: An interesting revalation occur, apparently cell type fibroblast, inflammatory and other does not have isCancerous lable while cell type epithelial does not have notCancerous label. \n",
    "\n",
    "From the observation above, it would not be smart to have 4 models handling each type of cell. Sorry if this contracdict with what I said above but I tried to avoid a \"Zero Frequency Probem\""
   ]
  },
  {
   "cell_type": "markdown",
   "id": "1e71c2dd",
   "metadata": {},
   "source": [
    "## Further setups"
   ]
  },
  {
   "cell_type": "code",
   "execution_count": 35,
   "id": "3aa73361",
   "metadata": {},
   "outputs": [],
   "source": [
    "# learning curve function\n",
    "import matplotlib.pyplot as plt\n",
    "def plot_learning_curve(train_loss, val_loss, train_metric, val_metric, metric_name='Accuracy'):\n",
    "    plt.figure(figsize=(10,5))\n",
    "    \n",
    "    plt.subplot(1,2,1)\n",
    "    plt.plot(train_loss, 'r--')\n",
    "    plt.plot(val_loss, 'b--')\n",
    "    plt.xlabel(\"epochs\")\n",
    "    plt.ylabel(\"Loss\")\n",
    "    plt.legend(['train', 'val'], loc='upper left')\n",
    "\n",
    "    plt.subplot(1,2,2)\n",
    "    plt.plot(train_metric, 'r--')\n",
    "    plt.plot(val_metric, 'b--')\n",
    "    plt.xlabel(\"epochs\")\n",
    "    plt.ylabel(metric_name)\n",
    "    plt.legend(['train', 'val'], loc='upper left')\n",
    "\n",
    "    plt.show()\n",
    "    \n",
    "# cellType needs to be string\n",
    "train_data['isCancerous'] = train_data['isCancerous'].astype('str')\n",
    "val_data['isCancerous'] = val_data['isCancerous'].astype('str')"
   ]
  },
  {
   "cell_type": "code",
   "execution_count": 37,
   "id": "b8df8c0f",
   "metadata": {},
   "outputs": [
    {
     "name": "stdout",
     "output_type": "stream",
     "text": [
      "Found 12168 validated image filenames belonging to 2 classes.\n",
      "Found 4056 validated image filenames belonging to 2 classes.\n"
     ]
    }
   ],
   "source": [
    "# initializing data generators\n",
    "from tensorflow.keras.preprocessing.image import ImageDataGenerator\n",
    "\n",
    "train_datagen = ImageDataGenerator(rescale=1./255, data_format='channels_last')\n",
    "val_datagen = ImageDataGenerator(rescale=1./255, data_format='channels_last')\n",
    "\n",
    "batch_size = 32\n",
    "\n",
    "train_generator = train_datagen.flow_from_dataframe(\n",
    "        dataframe=train_data,\n",
    "        directory='./patch_images/',\n",
    "        x_col=\"ImageName\",\n",
    "        y_col=\"isCancerous\",\n",
    "        target_size=(27, 27),\n",
    "        batch_size=batch_size,\n",
    "        class_mode='categorical')\n",
    "\n",
    "validation_generator = val_datagen.flow_from_dataframe(\n",
    "        dataframe=val_data,\n",
    "        directory='./patch_images/',\n",
    "        x_col=\"ImageName\",\n",
    "        y_col=\"isCancerous\",\n",
    "        target_size=(27, 27),\n",
    "        batch_size=batch_size,\n",
    "        class_mode='categorical')"
   ]
  },
  {
   "cell_type": "markdown",
   "id": "402df1b0",
   "metadata": {},
   "source": [
    "# 1) NN model as Base model\n",
    "We will use a simple NN model using Keras Sequential for our base model"
   ]
  },
  {
   "cell_type": "code",
   "execution_count": null,
   "id": "d50b3ba5",
   "metadata": {},
   "outputs": [],
   "source": [
    "INPUT_DIM = (27,27,3)\n",
    "HIDDEN_LAYER_DIM = 256\n",
    "OUTPUT_CLASSES = 2\n",
    "\n",
    "model_cancer = tf.keras.Sequential([\n",
    "    tf.keras.layers.Flatten(input_shape=INPUT_DIM),\n",
    "    tf.keras.layers.Dense(HIDDEN_LAYER_DIM, activation='sigmoid'),\n",
    "    tf.keras.layers.Dense(OUTPUT_CLASSES)\n",
    "])\n",
    "\n",
    "model_cancer.compile(optimizer='SGD',\n",
    "              loss=tf.keras.losses.CategoricalCrossentropy(from_logits=True),\n",
    "              metrics=['categorical_accuracy'])\n",
    "\n",
    "history = model_cancer.fit(train_generator, validation_data = validation_generator, epochs=50, verbose=0)\n",
    "\n",
    "plot_learning_curve(history.history['loss'], history.history['val_loss'], \n",
    "                    history.history['categorical_accuracy'], history.history['val_categorical_accuracy'], \n",
    "                    metric_name='Accuracy')"
   ]
  },
  {
   "cell_type": "markdown",
   "id": "c72a18ef",
   "metadata": {},
   "source": [
    "## Parameters Tuning for base model\n",
    "### Regularization\n",
    "Tuning the lambda value for l2 regulurization"
   ]
  },
  {
   "cell_type": "code",
   "execution_count": null,
   "id": "99267ca1",
   "metadata": {},
   "outputs": [],
   "source": [
    "reg_lambda = 0.02\n",
    "\n",
    "model_cancer_reg = tf.keras.Sequential([\n",
    "    tf.keras.layers.Flatten(input_shape=INPUT_DIM),\n",
    "    tf.keras.layers.Dense(HIDDEN_LAYER_DIM, activation='sigmoid', kernel_regularizer=tf.keras.regularizers.l2(reg_lambda)),\n",
    "    tf.keras.layers.Dense(OUTPUT_CLASSES, kernel_regularizer=tf.keras.regularizers.l2(reg_lambda))\n",
    "])\n",
    "\n",
    "model_cancer_reg.compile(optimizer='SGD',\n",
    "              loss=tf.keras.losses.CategoricalCrossentropy(from_logits=True),\n",
    "              metrics=['categorical_accuracy'])\n",
    "\n",
    "history_cancer_reg = model_cancer_reg.fit(train_generator, validation_data = validation_generator, epochs=150, verbose=0)\n",
    "\n",
    "plot_learning_curve(history_cancer_reg.history['loss'], history_cancer_reg.history['val_loss'], \n",
    "                    history_cancer_reg.history['categorical_accuracy'], history_cancer_reg.history['val_categorical_accuracy'], \n",
    "                    metric_name='Accuracy')"
   ]
  },
  {
   "cell_type": "markdown",
   "id": "d8a04e34",
   "metadata": {},
   "source": [
    "### Drop out\n",
    "Next we try to add a dropout layer to regularize the model"
   ]
  },
  {
   "cell_type": "code",
   "execution_count": null,
   "id": "76938e63",
   "metadata": {},
   "outputs": [],
   "source": [
    "model_cancer_drop = tf.keras.Sequential([\n",
    "    tf.keras.layers.Flatten(input_shape=INPUT_DIM),\n",
    "    tf.keras.layers.Dense(HIDDEN_LAYER_DIM, activation='sigmoid'),\n",
    "    tf.keras.layers.Dropout(.3),\n",
    "    tf.keras.layers.Dense(OUTPUT_CLASSES)\n",
    "])\n",
    "\n",
    "model_cancer_drop.compile(optimizer='SGD',\n",
    "              loss=tf.keras.losses.CategoricalCrossentropy(from_logits=True),\n",
    "              metrics=['categorical_accuracy'])\n",
    "\n",
    "history_cancer_drop = model_cancer_drop.fit(train_generator, validation_data = validation_generator, epochs=150, verbose=0)\n",
    "\n",
    "plot_learning_curve(history_cancer_drop.history['loss'], history_cancer_drop.history['val_loss'], \n",
    "                    history_cancer_drop.history['categorical_accuracy'], history_cancer_drop.history['val_categorical_accuracy'], \n",
    "                    metric_name='Accuracy')"
   ]
  },
  {
   "cell_type": "markdown",
   "id": "ecb5afb8",
   "metadata": {},
   "source": [
    "## Cross validation to train the model"
   ]
  },
  {
   "cell_type": "code",
   "execution_count": 38,
   "id": "2772ebca",
   "metadata": {},
   "outputs": [
    {
     "data": {
      "text/html": [
       "<div>\n",
       "<style scoped>\n",
       "    .dataframe tbody tr th:only-of-type {\n",
       "        vertical-align: middle;\n",
       "    }\n",
       "\n",
       "    .dataframe tbody tr th {\n",
       "        vertical-align: top;\n",
       "    }\n",
       "\n",
       "    .dataframe thead th {\n",
       "        text-align: right;\n",
       "    }\n",
       "</style>\n",
       "<table border=\"1\" class=\"dataframe\">\n",
       "  <thead>\n",
       "    <tr style=\"text-align: right;\">\n",
       "      <th></th>\n",
       "      <th>isCancerous</th>\n",
       "    </tr>\n",
       "  </thead>\n",
       "  <tbody>\n",
       "    <tr>\n",
       "      <th>233</th>\n",
       "      <td>0</td>\n",
       "    </tr>\n",
       "    <tr>\n",
       "      <th>7782</th>\n",
       "      <td>1</td>\n",
       "    </tr>\n",
       "    <tr>\n",
       "      <th>2371</th>\n",
       "      <td>1</td>\n",
       "    </tr>\n",
       "    <tr>\n",
       "      <th>5032</th>\n",
       "      <td>0</td>\n",
       "    </tr>\n",
       "    <tr>\n",
       "      <th>9768</th>\n",
       "      <td>0</td>\n",
       "    </tr>\n",
       "    <tr>\n",
       "      <th>...</th>\n",
       "      <td>...</td>\n",
       "    </tr>\n",
       "    <tr>\n",
       "      <th>8528</th>\n",
       "      <td>0</td>\n",
       "    </tr>\n",
       "    <tr>\n",
       "      <th>1897</th>\n",
       "      <td>1</td>\n",
       "    </tr>\n",
       "    <tr>\n",
       "      <th>3995</th>\n",
       "      <td>1</td>\n",
       "    </tr>\n",
       "    <tr>\n",
       "      <th>6833</th>\n",
       "      <td>0</td>\n",
       "    </tr>\n",
       "    <tr>\n",
       "      <th>7584</th>\n",
       "      <td>1</td>\n",
       "    </tr>\n",
       "  </tbody>\n",
       "</table>\n",
       "<p>12168 rows × 1 columns</p>\n",
       "</div>"
      ],
      "text/plain": [
       "     isCancerous\n",
       "233            0\n",
       "7782           1\n",
       "2371           1\n",
       "5032           0\n",
       "9768           0\n",
       "...          ...\n",
       "8528           0\n",
       "1897           1\n",
       "3995           1\n",
       "6833           0\n",
       "7584           1\n",
       "\n",
       "[12168 rows x 1 columns]"
      ]
     },
     "execution_count": 38,
     "metadata": {},
     "output_type": "execute_result"
    }
   ],
   "source": [
    "from sklearn.model_selection import KFold, StratifiedKFold\n",
    "\n",
    "Y = train_data[['isCancerous']]\n",
    "kf = KFold(n_splits = 10)\n",
    "Y"
   ]
  },
  {
   "cell_type": "code",
   "execution_count": null,
   "id": "a89ce9be",
   "metadata": {},
   "outputs": [],
   "source": [
    "idg = ImageDataGenerator(rescale=1./255, data_format='channels_last')\n",
    "\n",
    "def get_model_name(k):\n",
    "    return 'model_'+str(k)+'.h5'\n",
    "\n",
    "VALIDATION_ACCURACY = []\n",
    "VALIDATION_LOSS = []\n",
    "\n",
    "save_dir = '/cancer_CV/'\n",
    "fold_var = 1\n",
    "reg_lambda = 0.02\n",
    "\n",
    "for train_index, val_index in kf.split(Y):\n",
    "    training_data = train_data.iloc[train_index]\n",
    "    validation_data = train_data.iloc[val_index]\n",
    "    \n",
    "    train_datagen = idg.flow_from_dataframe(dataframe=train_data,\n",
    "        directory='./patch_images/',\n",
    "        x_col=\"ImageName\",\n",
    "        y_col=\"isCancerous\",\n",
    "        target_size=(27, 27),\n",
    "        batch_size=batch_size,\n",
    "        class_mode='categorical')\n",
    "    valid_datagen  = idg.flow_from_dataframe(dataframe=val_data,\n",
    "        directory='./patch_images/',\n",
    "        x_col=\"ImageName\",\n",
    "        y_col=\"isCancerous\",\n",
    "        target_size=(27, 27),\n",
    "        batch_size=batch_size,\n",
    "        class_mode='categorical')\n",
    "       \n",
    "\n",
    "\n",
    "    # CREATE NEW MODEL\n",
    "    model_cancer_CV = tf.keras.Sequential([\n",
    "    tf.keras.layers.Flatten(input_shape=INPUT_DIM),\n",
    "    tf.keras.layers.Dense(HIDDEN_LAYER_DIM, activation='sigmoid', kernel_regularizer=tf.keras.regularizers.l2(reg_lambda)),\n",
    "    tf.keras.layers.Dense(OUTPUT_CLASSES, kernel_regularizer=tf.keras.regularizers.l2(reg_lambda))\n",
    "])\n",
    "    # COMPILE NEW MODEL\n",
    "    model_cancer_CV.compile(optimizer='SGD',\n",
    "              loss=tf.keras.losses.CategoricalCrossentropy(from_logits=True),\n",
    "              metrics=['categorical_accuracy'])\n",
    "\n",
    "\n",
    "    # CREATE CALLBACKS\n",
    "    checkpoint = tf.keras.callbacks.ModelCheckpoint(save_dir+get_model_name(fold_var), \n",
    "                                                    monitor='val_accuracy', verbose=1, \n",
    "                                                    save_best_only=True, mode='max')\n",
    "    callbacks_list = [checkpoint]\n",
    "    # There can be other callbacks, but just showing one because it involves the model name\n",
    "    # This saves the best model\n",
    "    # FIT THE MODEL\n",
    "    history_CV = model_cancer_CV.fit(train_datagen,\n",
    "                epochs=200,\n",
    "                callbacks=callbacks_list,\n",
    "                validation_data= valid_datagen,\n",
    "                verbose=1)\n",
    "    #PLOT HISTORY\n",
    "    #       :\n",
    "    #       :\n",
    "\n",
    "    # LOAD BEST MODEL to evaluate the performance of the model\n",
    "   \n",
    "    model_cancer_CV.load_weights(\"/cancer_CV/model_\"+str(fold_var)+\".h5\")\n",
    "\n",
    "    results = model_cancer_CV.evaluate(valid_datagen)\n",
    "    results = dict(zip(model_cancer_CV.metrics_names,results))\n",
    "\n",
    "    VALIDATION_ACCURACY.append(results['categorical_accuracy'])\n",
    "    VALIDATION_LOSS.append(results['loss'])\n",
    "\n",
    "    tf.keras.backend.clear_session()\n",
    "\n",
    "    fold_var += 1\n",
    "\n"
   ]
  },
  {
   "cell_type": "code",
   "execution_count": null,
   "id": "a331a29f",
   "metadata": {},
   "outputs": [],
   "source": [
    "VALIDATION_ACCURACY.sort()\n",
    "print(\"Largest element is:\", VALIDATION_ACCURACY[-1])"
   ]
  },
  {
   "cell_type": "code",
   "execution_count": null,
   "id": "ba7edbae",
   "metadata": {},
   "outputs": [],
   "source": [
    "plot_learning_curve(history_CV.history['loss'], history_CV.history['val_loss'], \n",
    "                    history_CV.history['categorical_accuracy'], history_CV.history['val_categorical_accuracy'], \n",
    "                    metric_name='Accuracy')"
   ]
  },
  {
   "cell_type": "markdown",
   "id": "7cc5a446",
   "metadata": {},
   "source": [
    "### Save model"
   ]
  },
  {
   "cell_type": "code",
   "execution_count": null,
   "id": "c838a7cc",
   "metadata": {},
   "outputs": [],
   "source": [
    "# Original model without tuning\n",
    "model_cancer.save(\"cancer_base_model\")\n",
    "\n",
    "# Model with regularization\n",
    "model_cancer_reg.save(\"cancer_reg_base_model\")\n",
    "\n",
    "# Model with dropout\n",
    "model_cancer_drop.save(\"cancer_dropout_base_model\")\n",
    "model_cancer_CV.save(\"cancer_CV_model\")"
   ]
  },
  {
   "cell_type": "markdown",
   "id": "71f3e159",
   "metadata": {},
   "source": [
    "## Testing the final model\n",
    "The model tuning by dropout seems to have the best performance."
   ]
  },
  {
   "cell_type": "code",
   "execution_count": null,
   "id": "d8452338",
   "metadata": {},
   "outputs": [],
   "source": [
    "test_data['isCancerous'] = test_data['isCancerous'].astype('str')\n",
    "\n",
    "test_datagen = ImageDataGenerator(rescale=1./255, data_format='channels_last')\n",
    "\n",
    "batch_size = 1\n",
    "\n",
    "test_generator = test_datagen.flow_from_dataframe(\n",
    "        dataframe=test_data,\n",
    "        directory='./patch_images/',\n",
    "        x_col=\"ImageName\",\n",
    "        y_col=\"isCancerous\",\n",
    "        target_size=(27, 27),\n",
    "        batch_size=batch_size,\n",
    "        class_mode='categorical')"
   ]
  },
  {
   "cell_type": "code",
   "execution_count": null,
   "id": "c381cd04",
   "metadata": {},
   "outputs": [],
   "source": [
    "model_cancer.evaluate(test_generator)"
   ]
  },
  {
   "cell_type": "code",
   "execution_count": null,
   "id": "74651102",
   "metadata": {},
   "outputs": [],
   "source": [
    "model_cancer_reg.evaluate(test_generator)"
   ]
  },
  {
   "cell_type": "code",
   "execution_count": null,
   "id": "1f8c361d",
   "metadata": {},
   "outputs": [],
   "source": [
    "model_cancer_drop.evaluate(test_generator)"
   ]
  },
  {
   "cell_type": "code",
   "execution_count": null,
   "id": "4baf23ff",
   "metadata": {},
   "outputs": [],
   "source": [
    "model_cancer_CV.evaluate(test_generator)"
   ]
  },
  {
   "cell_type": "markdown",
   "id": "5f86b96b",
   "metadata": {},
   "source": [
    "# 2) CNN model (using leNet)\n",
    "Next we will experiment using CNN models, in this section we will attempt to create a CNN model using leNet"
   ]
  },
  {
   "cell_type": "code",
   "execution_count": null,
   "id": "22179906",
   "metadata": {},
   "outputs": [],
   "source": [
    "reg_lambda = 0.001\n",
    "OUTPUT_CLASSES = 2\n",
    "\n",
    "model_cancer_leNet1 = tf.keras.Sequential([\n",
    "    tf.keras.layers.Input(shape=(27, 27, 3)),\n",
    "    tf.keras.layers.Lambda(lambda x: tf.expand_dims(x[:,:,:,0], -1, name=None)),\n",
    "    \n",
    "    \n",
    "    tf.keras.layers.Conv2D(32, (3, 3), kernel_regularizer=tf.keras.regularizers.l2(reg_lambda)),\n",
    "    tf.keras.layers.Activation('relu'),\n",
    "    tf.keras.layers.MaxPool2D(pool_size=(2,2)),\n",
    "    \n",
    "    tf.keras.layers.Conv2D(32, (3, 3), kernel_regularizer=tf.keras.regularizers.l2(reg_lambda)),\n",
    "    tf.keras.layers.Activation('relu'),\n",
    "    \n",
    "    tf.keras.layers.Conv2D(64, (3, 3)),\n",
    "    tf.keras.layers.Activation('relu'),\n",
    "    tf.keras.layers.MaxPool2D(pool_size=(2,2)),\n",
    "    \n",
    "    tf.keras.layers.Flatten(),\n",
    "    \n",
    "    tf.keras.layers.Dense(64),\n",
    "    tf.keras.layers.Activation('relu'),\n",
    "    tf.keras.layers.Dropout(0.5),\n",
    "    tf.keras.layers.Dense(OUTPUT_CLASSES, activation='softmax', kernel_regularizer=tf.keras.regularizers.l2(reg_lambda))\n",
    "])\n",
    "\n",
    "sgd = tf.keras.optimizers.SGD(learning_rate=0.01, decay=1e-6, momentum=0.9, nesterov=True)\n",
    "model_cancer_leNet1.compile(optimizer=sgd,\n",
    "              loss=tf.keras.losses.CategoricalCrossentropy(from_logits=False),\n",
    "              metrics=['categorical_accuracy'])\n",
    "\n",
    "history_cancer_leNet1 = model_cancer_leNet1.fit(train_generator, \n",
    "                                    validation_data = validation_generator, \n",
    "                                    epochs=100, verbose=0)\n",
    "\n",
    "plot_learning_curve(history_cancer_leNet1.history['loss'], history_cancer_leNet1.history['val_loss'], \n",
    "                    history_cancer_leNet1.history['categorical_accuracy'], history_cancer_leNet1.history['val_categorical_accuracy'], \n",
    "                    metric_name='Accuracy')"
   ]
  },
  {
   "cell_type": "markdown",
   "id": "baaa7d7f",
   "metadata": {},
   "source": [
    "Observation:"
   ]
  },
  {
   "cell_type": "markdown",
   "id": "b6240f07",
   "metadata": {},
   "source": [
    "### Data augmentation"
   ]
  },
  {
   "cell_type": "code",
   "execution_count": 39,
   "id": "4f770f79",
   "metadata": {},
   "outputs": [
    {
     "name": "stdout",
     "output_type": "stream",
     "text": [
      "Found 12168 validated image filenames belonging to 2 classes.\n"
     ]
    }
   ],
   "source": [
    "train_datagen_data_aug = ImageDataGenerator(rescale=1./255, data_format='channels_last',\n",
    "                                  rotation_range=15, width_shift_range=0.2,\n",
    "                                  height_shift_range=0.2)\n",
    "batch_size = 32\n",
    "train_generator_data_aug = train_datagen.flow_from_dataframe(\n",
    "        dataframe=train_data,\n",
    "        directory='./patch_images/',\n",
    "        x_col=\"ImageName\",\n",
    "        y_col=\"isCancerous\",\n",
    "        target_size=(27, 27),\n",
    "        batch_size=batch_size,\n",
    "        class_mode='categorical')"
   ]
  },
  {
   "cell_type": "code",
   "execution_count": null,
   "id": "a0a7ef4d",
   "metadata": {},
   "outputs": [],
   "source": [
    "model_cancer_leNet2 = tf.keras.Sequential([\n",
    "    tf.keras.layers.Input(shape=(27, 27, 3)),\n",
    "    tf.keras.layers.Lambda(lambda x: tf.expand_dims(x[:,:,:,0], -1, name=None)),\n",
    "    \n",
    "    \n",
    "    tf.keras.layers.Conv2D(32, (3, 3), kernel_regularizer=tf.keras.regularizers.l2(reg_lambda)),\n",
    "    tf.keras.layers.Activation('relu'),\n",
    "    tf.keras.layers.MaxPool2D(pool_size=(2,2)),\n",
    "    \n",
    "    tf.keras.layers.Conv2D(32, (3, 3), kernel_regularizer=tf.keras.regularizers.l2(reg_lambda)),\n",
    "    tf.keras.layers.Activation('relu'),\n",
    "    \n",
    "    tf.keras.layers.Conv2D(64, (3, 3)),\n",
    "    tf.keras.layers.Activation('relu'),\n",
    "    tf.keras.layers.MaxPool2D(pool_size=(2,2)),\n",
    "    \n",
    "    tf.keras.layers.Flatten(),\n",
    "    tf.keras.layers.Dense(64),\n",
    "    tf.keras.layers.Activation('relu'),\n",
    "    tf.keras.layers.Dropout(0.5),\n",
    "    tf.keras.layers.Dense(OUTPUT_CLASSES, activation='softmax', kernel_regularizer=tf.keras.regularizers.l2(reg_lambda))\n",
    "])\n",
    "\n",
    "model_cancer_leNet2.compile(optimizer=sgd,\n",
    "              loss=tf.keras.losses.CategoricalCrossentropy(from_logits=False),\n",
    "              metrics=['categorical_accuracy'])\n",
    "\n",
    "history_cancer_leNet2 = model_cancer_leNet2.fit_generator(train_generator_data_aug, \n",
    "                                    validation_data = validation_generator, \n",
    "                                    epochs=150, verbose=0)\n",
    "\n",
    "plot_learning_curve(history_cancer_leNet2.history['loss'], history_cancer_leNet2.history['val_loss'], \n",
    "                    history_cancer_leNet2.history['categorical_accuracy'], history_cancer_leNet2.history['val_categorical_accuracy'], \n",
    "                    metric_name='Accuracy')"
   ]
  },
  {
   "cell_type": "markdown",
   "id": "fbd5f0d0",
   "metadata": {},
   "source": [
    "### Cross validation"
   ]
  },
  {
   "cell_type": "code",
   "execution_count": null,
   "id": "4d22d7f5",
   "metadata": {},
   "outputs": [],
   "source": [
    "Y = train_data[['isCancerous']]\n",
    "kf = KFold(n_splits = 5)\n",
    "Y"
   ]
  },
  {
   "cell_type": "code",
   "execution_count": null,
   "id": "cd67e20b",
   "metadata": {},
   "outputs": [],
   "source": [
    "# idg_leNet = ImageDataGenerator(rescale=1./255, data_format='channels_last',\n",
    "#                                   rotation_range=15, width_shift_range=0.2,\n",
    "#                                   height_shift_range=0.2)\n"
   ]
  },
  {
   "cell_type": "code",
   "execution_count": null,
   "id": "2bb2ba61",
   "metadata": {},
   "outputs": [],
   "source": [
    "# VALIDATION_ACCURACY = []\n",
    "VALIDATION_LOSS = []\n",
    "\n",
    "save_dir = '/leNet_cancer_CV/'\n",
    "fold_var = 1\n",
    "reg_lambda = 0.001\n",
    "\n",
    "for train_index, val_index in kf.split(Y):\n",
    "    \n",
    "    training_data = train_data.iloc[train_index]\n",
    "    validation_data = train_data.iloc[val_index]\n",
    "    \n",
    "#     train_datagen = idg_leNet.flow_from_dataframe(dataframe=train_data,\n",
    "#         directory='./patch_images/',\n",
    "#         x_col=\"ImageName\",\n",
    "#         y_col=\"isCancerous\",\n",
    "#         target_size=(27, 27),\n",
    "#         batch_size=batch_size,\n",
    "#         class_mode='categorical')\n",
    "#     valid_datagen  = idg_leNet.flow_from_dataframe(dataframe=val_data,\n",
    "#         directory='./patch_images/',\n",
    "#         x_col=\"ImageName\",\n",
    "#         y_col=\"isCancerous\",\n",
    "#         target_size=(27, 27),\n",
    "#         batch_size=batch_size,\n",
    "#         class_mode='categorical')\n",
    "       \n",
    "\n",
    "\n",
    "    # CREATE NEW MODEL\n",
    "    model_cancer_leNet_aug_CV = tf.keras.Sequential([\n",
    "    tf.keras.layers.Input(shape=(27, 27, 3)),\n",
    "    tf.keras.layers.Lambda(lambda x: tf.expand_dims(x[:,:,:,0], -1, name=None)),\n",
    "    \n",
    "    \n",
    "    tf.keras.layers.Conv2D(32, (3, 3), kernel_regularizer=tf.keras.regularizers.l2(reg_lambda)),\n",
    "    tf.keras.layers.Activation('relu'),\n",
    "    tf.keras.layers.MaxPool2D(pool_size=(2,2)),\n",
    "    \n",
    "    tf.keras.layers.Conv2D(32, (3, 3), kernel_regularizer=tf.keras.regularizers.l2(reg_lambda)),\n",
    "    tf.keras.layers.Activation('relu'),\n",
    "    \n",
    "    tf.keras.layers.Conv2D(64, (3, 3)),\n",
    "    tf.keras.layers.Activation('relu'),\n",
    "    tf.keras.layers.MaxPool2D(pool_size=(2,2)),\n",
    "    \n",
    "    tf.keras.layers.Flatten(),\n",
    "    tf.keras.layers.Dense(64),\n",
    "    tf.keras.layers.Activation('relu'),\n",
    "    tf.keras.layers.Dropout(0.5),\n",
    "    tf.keras.layers.Dense(OUTPUT_CLASSES, activation='softmax', kernel_regularizer=tf.keras.regularizers.l2(reg_lambda))\n",
    "])\n",
    "    # COMPILE NEW MODEL\n",
    "    model_cancer_leNet_CV.compile(optimizer=sgd,\n",
    "              loss=tf.keras.losses.CategoricalCrossentropy(from_logits=False),\n",
    "              metrics=['categorical_accuracy'])\n",
    "\n",
    "\n",
    "    # CREATE CALLBACKS\n",
    "    checkpoint = tf.keras.callbacks.ModelCheckpoint(save_dir+get_model_name(fold_var), \n",
    "                                                    monitor='val_accuracy', verbose=1, \n",
    "                                                    save_best_only=True, mode='max')\n",
    "    callbacks_list = [checkpoint]\n",
    "    # There can be other callbacks, but just showing one because it involves the model name\n",
    "    # This saves the best model\n",
    "    # FIT THE MODEL\n",
    "    history_leNet_CV = model_cancer_leNet_CV.fit(train_generator_data_aug,\n",
    "                epochs=10,\n",
    "                callbacks=callbacks_list,\n",
    "                validation_data= validation_generator,\n",
    "                verbose=1)\n",
    "    #PLOT HISTORY\n",
    "    #       :\n",
    "    #       :\n",
    "\n",
    "    # LOAD BEST MODEL to evaluate the performance of the model\n",
    "\n",
    "    model_cancer_leNet_CV.load_weights(\"/leNet_cancer_CV/model_\"+str(fold_var)+\".h5\")\n",
    "    \n",
    "    results = model_cancer_leNet_CV.evaluate(valid_datagen)\n",
    "    results = dict(zip(model_cancer_leNet_CV.metrics_names,results))\n",
    "\n",
    "    VALIDATION_ACCURACY.append(results['categorical_accuracy'])\n",
    "    VALIDATION_LOSS.append(results['loss'])\n",
    "\n",
    "    tf.keras.backend.clear_session()\n",
    "\n",
    "    fold_var += 1\n",
    "    print(fold_var)\n",
    "    \n",
    "# plot the learning curve\n",
    "plot_learning_curve(history_leNet_CV.history['loss'], history_leNet_CV.history['val_loss'], \n",
    "                    history_leNet_CV.history['categorical_accuracy'], history_leNet_CV.history['val_categorical_accuracy'], \n",
    "                    metric_name='Accuracy')"
   ]
  },
  {
   "cell_type": "markdown",
   "id": "04f69fc5",
   "metadata": {},
   "source": [
    "Observation:"
   ]
  },
  {
   "cell_type": "markdown",
   "id": "0a417691",
   "metadata": {},
   "source": [
    "## Testing the final model"
   ]
  },
  {
   "cell_type": "code",
   "execution_count": null,
   "id": "2f23d808",
   "metadata": {},
   "outputs": [],
   "source": [
    "model_cancer_leNet1.evaluate(test_generator)"
   ]
  },
  {
   "cell_type": "code",
   "execution_count": null,
   "id": "eef5c8c8",
   "metadata": {},
   "outputs": [],
   "source": [
    "model_cancer_leNet2.evaluate(test_generator)"
   ]
  },
  {
   "cell_type": "code",
   "execution_count": null,
   "id": "dfba79af",
   "metadata": {},
   "outputs": [],
   "source": [
    "model_cancer_leNet_CV.evaluate(test_generator)"
   ]
  },
  {
   "cell_type": "markdown",
   "id": "63d2e38d",
   "metadata": {},
   "source": [
    "# 3) CNN model (using VGG)\n",
    "Next we will experiment using CNN VGG models."
   ]
  },
  {
   "cell_type": "code",
   "execution_count": null,
   "id": "3966542d",
   "metadata": {},
   "outputs": [],
   "source": [
    "OUTPUT_CLASSES = 2\n",
    "model_cancer_VGG_1 = tf.keras.Sequential([\n",
    "    #VGG block 1\n",
    "    tf.keras.layers.Conv2D(32, (3, 3), activation='relu', padding='same', input_shape=(27, 27, 3)),\n",
    "    tf.keras.layers.Conv2D(32, (3, 3), activation='relu', padding='same'),\n",
    "    tf.keras.layers.MaxPooling2D((2, 2)),\n",
    "    \n",
    "    #VGG block 2\n",
    "    tf.keras.layers.Conv2D(64, (3, 3), activation='relu', padding='same'),\n",
    "    tf.keras.layers.Conv2D(64, (3, 3), activation='relu', padding='same'),\n",
    "    tf.keras.layers.MaxPooling2D((2, 2)),\n",
    "    \n",
    "    #VGG block 3\n",
    "    tf.keras.layers.Conv2D(128, (3, 3), activation='relu', padding='same'),\n",
    "    tf.keras.layers.Conv2D(128, (3, 3), activation='relu', padding='same'),\n",
    "    tf.keras.layers.MaxPooling2D((2, 2)),\n",
    "    \n",
    "    tf.keras.layers.Flatten(),\n",
    "    tf.keras.layers.Dense(128, activation='relu'),\n",
    "    tf.keras.layers.Dense(OUTPUT_CLASSES),\n",
    "])\n",
    "\n",
    "model_cancer_VGG_1.compile(optimizer='adam',\n",
    "              loss=tf.keras.losses.CategoricalCrossentropy(from_logits=True),\n",
    "              metrics=['categorical_accuracy'])\n",
    "\n",
    "history_cancer_VGG_1 = model_cancer_VGG_1.fit(train_generator, validation_data = validation_generator, epochs=150, verbose=0)\n",
    "\n",
    "plot_learning_curve(history_cancer_VGG_1.history['loss'], history_cancer_VGG_1.history['val_loss'], \n",
    "                    history_cancer_VGG_1.history['categorical_accuracy'], history_cancer_VGG_1.history['val_categorical_accuracy'], \n",
    "                    metric_name='Accuracy')"
   ]
  },
  {
   "cell_type": "markdown",
   "id": "d3a0e305",
   "metadata": {},
   "source": [
    "Observation:"
   ]
  },
  {
   "cell_type": "markdown",
   "id": "ccc2e6e6",
   "metadata": {},
   "source": [
    "### Regularization with data augmentation"
   ]
  },
  {
   "cell_type": "code",
   "execution_count": null,
   "id": "6a15f3aa",
   "metadata": {},
   "outputs": [],
   "source": [
    "train_datagen_data_aug_VGG = ImageDataGenerator(rescale=1./255, data_format='channels_last',\n",
    "                                  rotation_range=15, width_shift_range=0.2,\n",
    "                                  height_shift_range=0.2)\n",
    "\n",
    "batch_size = 32\n",
    "\n",
    "train_generator_data_aug_VGG = train_datagen_data_aug_VGG.flow_from_dataframe(\n",
    "        dataframe=train_data,\n",
    "        directory='./patch_images/',\n",
    "        x_col=\"ImageName\",\n",
    "        y_col=\"isCancerous\",\n",
    "        target_size=(27, 27),\n",
    "        batch_size=batch_size,\n",
    "        class_mode='categorical')"
   ]
  },
  {
   "cell_type": "code",
   "execution_count": null,
   "id": "f0d6bd91",
   "metadata": {},
   "outputs": [],
   "source": [
    "OUTPUT_CLASSES = 2\n",
    "model_cancer_VGG_2 = tf.keras.Sequential([\n",
    "    #VGG block 1\n",
    "    tf.keras.layers.Conv2D(32, (3, 3), activation='relu', padding='same', input_shape=(27, 27, 3)),\n",
    "    tf.keras.layers.Conv2D(32, (3, 3), activation='relu', padding='same'),\n",
    "    tf.keras.layers.MaxPooling2D((2, 2)),\n",
    "    \n",
    "    #VGG block 2\n",
    "    tf.keras.layers.Conv2D(64, (3, 3), activation='relu', padding='same'),\n",
    "    tf.keras.layers.Conv2D(64, (3, 3), activation='relu', padding='same'),\n",
    "    tf.keras.layers.MaxPooling2D((2, 2)),\n",
    "    \n",
    "    #VGG block 3\n",
    "    tf.keras.layers.Conv2D(128, (3, 3), activation='relu', padding='same'),\n",
    "    tf.keras.layers.Conv2D(128, (3, 3), activation='relu', padding='same'),\n",
    "    tf.keras.layers.MaxPooling2D((2, 2)),\n",
    "    \n",
    "    tf.keras.layers.Flatten(),\n",
    "    tf.keras.layers.Dense(128, activation='relu'),\n",
    "    tf.keras.layers.Dense(OUTPUT_CLASSES),\n",
    "])\n",
    "\n",
    "model_cancer_VGG_2.compile(optimizer='adam',\n",
    "              loss=tf.keras.losses.CategoricalCrossentropy(from_logits=True),\n",
    "              metrics=['categorical_accuracy'])\n",
    "\n",
    "history_cancer_VGG_2 = model_cancer_VGG_2.fit(train_generator_data_aug_VGG, validation_data = validation_generator, epochs=150, verbose=0)\n",
    "\n",
    "plot_learning_curve(history_cancer_VGG_2.history['loss'], history_cancer_VGG_2.history['val_loss'], \n",
    "                    history_cancer_VGG_2.history['categorical_accuracy'], history_cancer_VGG_2.history['val_categorical_accuracy'], \n",
    "                    metric_name='Accuracy')"
   ]
  },
  {
   "cell_type": "markdown",
   "id": "5d9488aa",
   "metadata": {},
   "source": [
    "## Adding regularization and dropout"
   ]
  },
  {
   "cell_type": "code",
   "execution_count": null,
   "id": "4b26d5ee",
   "metadata": {},
   "outputs": [],
   "source": [
    "reg_lambda = 0.001\n",
    "OUTPUT_CLASSES = 2\n",
    "model_cancer_VGG_3 = tf.keras.Sequential([\n",
    "    #VGG block 1\n",
    "    tf.keras.layers.Conv2D(32, (3, 3), activation='relu', padding='same', \n",
    "                           kernel_regularizer=tf.keras.regularizers.l2(reg_lambda), input_shape=(27, 27, 3)),\n",
    "    tf.keras.layers.Conv2D(32, (3, 3), activation='relu', padding='same', \n",
    "                           kernel_regularizer=tf.keras.regularizers.l2(reg_lambda)),\n",
    "    tf.keras.layers.MaxPooling2D((2, 2)),\n",
    "    \n",
    "    #VGG block 2\n",
    "    tf.keras.layers.Conv2D(64, (3, 3), activation='relu', padding='same', \n",
    "                           kernel_regularizer=tf.keras.regularizers.l2(reg_lambda)),\n",
    "    tf.keras.layers.Conv2D(64, (3, 3), activation='relu', padding='same', \n",
    "                           kernel_regularizer=tf.keras.regularizers.l2(reg_lambda)),\n",
    "    tf.keras.layers.MaxPooling2D((2, 2)),\n",
    "    \n",
    "    #VGG block 3\n",
    "    tf.keras.layers.Conv2D(128, (3, 3), activation='relu', padding='same', \n",
    "                           kernel_regularizer=tf.keras.regularizers.l2(reg_lambda)),\n",
    "    tf.keras.layers.Conv2D(128, (3, 3), activation='relu', padding='same', \n",
    "                           kernel_regularizer=tf.keras.regularizers.l2(reg_lambda)),\n",
    "    tf.keras.layers.MaxPooling2D((2, 2)),\n",
    "    \n",
    "    tf.keras.layers.Flatten(),\n",
    "    tf.keras.layers.Dense(128, activation='relu'),\n",
    "    tf.keras.layers.Dropout(.2),\n",
    "    tf.keras.layers.Dense(OUTPUT_CLASSES),\n",
    "])\n",
    "\n",
    "model_cancer_VGG_3.compile(optimizer='adam',\n",
    "              loss=tf.keras.losses.CategoricalCrossentropy(from_logits=True),\n",
    "              metrics=['categorical_accuracy'])\n",
    "\n",
    "history_cancer_VGG_3 = model_cancer_VGG_3.fit(train_generator, validation_data = validation_generator, epochs=150, verbose=0)\n",
    "\n",
    "plot_learning_curve(history_cancer_VGG_3.history['loss'], history_cancer_VGG_3.history['val_loss'], \n",
    "                    history_cancer_VGG_3.history['categorical_accuracy'], history_cancer_VGG_3.history['val_categorical_accuracy'], \n",
    "                    metric_name='Accuracy')"
   ]
  },
  {
   "cell_type": "markdown",
   "id": "5cf0b066",
   "metadata": {},
   "source": [
    "Observation:"
   ]
  },
  {
   "cell_type": "markdown",
   "id": "e234bfe3",
   "metadata": {},
   "source": [
    "## Testing the final model"
   ]
  },
  {
   "cell_type": "code",
   "execution_count": null,
   "id": "473f193c",
   "metadata": {},
   "outputs": [],
   "source": [
    "history_cancer_VGG_1.evaluate(test_generator)"
   ]
  },
  {
   "cell_type": "code",
   "execution_count": null,
   "id": "9aef967d",
   "metadata": {},
   "outputs": [],
   "source": [
    "history_cancer_VGG_2.evaluate(test_generator)"
   ]
  },
  {
   "cell_type": "code",
   "execution_count": null,
   "id": "1cb05a89",
   "metadata": {},
   "outputs": [],
   "source": [
    "history_cancer_VGG_3.evaluate(test_generator)"
   ]
  }
 ],
 "metadata": {
  "kernelspec": {
   "display_name": "Python 3",
   "language": "python",
   "name": "python3"
  },
  "language_info": {
   "codemirror_mode": {
    "name": "ipython",
    "version": 3
   },
   "file_extension": ".py",
   "mimetype": "text/x-python",
   "name": "python",
   "nbconvert_exporter": "python",
   "pygments_lexer": "ipython3",
   "version": "3.8.8"
  }
 },
 "nbformat": 4,
 "nbformat_minor": 5
}
