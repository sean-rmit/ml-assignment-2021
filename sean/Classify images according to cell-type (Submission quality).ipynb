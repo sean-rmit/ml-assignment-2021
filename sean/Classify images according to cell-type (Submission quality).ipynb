{
 "cells": [
  {
   "cell_type": "markdown",
   "id": "4a14b03b",
   "metadata": {},
   "source": [
    "# Classify images according to cell-type\n",
    "In this notebook the goal is to classify the images according to their cell-type"
   ]
  },
  {
   "cell_type": "markdown",
   "id": "ba14ed30",
   "metadata": {},
   "source": [
    "# Setup\n",
    "1. Import libraries\n",
    "2. Setting up data sets\n",
    "3. Initialize learning curve function"
   ]
  },
  {
   "cell_type": "code",
   "execution_count": 1,
   "id": "0d0956d5",
   "metadata": {},
   "outputs": [
    {
     "data": {
      "text/plain": [
       "'2.3.0'"
      ]
     },
     "execution_count": 1,
     "metadata": {},
     "output_type": "execute_result"
    }
   ],
   "source": [
    "import tensorflow as tf\n",
    "AUTOTUNE = tf.data.experimental.AUTOTUNE\n",
    "\n",
    "import IPython.display as display\n",
    "from PIL import Image\n",
    "import numpy as np\n",
    "import matplotlib.pyplot as plt\n",
    "import os\n",
    "\n",
    "import pandas as pd\n",
    "\n",
    "tf.__version__"
   ]
  },
  {
   "cell_type": "code",
   "execution_count": 2,
   "id": "4b0a9f02",
   "metadata": {},
   "outputs": [
    {
     "name": "stdout",
     "output_type": "stream",
     "text": [
      "Train data : 5937, Val Data: 1979, Test Data: 1980\n"
     ]
    }
   ],
   "source": [
    "from sklearn.model_selection import train_test_split\n",
    "\n",
    "data = pd.read_csv('./data_labels_mainData.csv')\n",
    "\n",
    "train_data, test_data = train_test_split(data, test_size=0.2, random_state=42)\n",
    "train_data, val_data = train_test_split(train_data, test_size=0.25, random_state=42)\n",
    "\n",
    "print(\"Train data : {}, Val Data: {}, Test Data: {}\".format(train_data.shape[0], val_data.shape[0], test_data.shape[0]))"
   ]
  },
  {
   "cell_type": "code",
   "execution_count": 25,
   "id": "63268163",
   "metadata": {},
   "outputs": [
    {
     "name": "stdout",
     "output_type": "stream",
     "text": [
      "Train data : 5937, Val Data: 1979, Test Data: 1980\n",
      "Train data : 1188, Val Data: 396, Test Data: 396\n"
     ]
    }
   ],
   "source": [
    "# from sklearn.model_selection import train_test_split\n",
    "\n",
    "# data = pd.read_csv('./data_labels_mainData.csv')\n",
    "\n",
    "# train_data_big, test_data_big = train_test_split(data, test_size=0.2, random_state=42)\n",
    "# train_data_big, val_data_big = train_test_split(train_data_big, test_size=0.25, random_state=42)\n",
    "\n",
    "# print(\"Train data : {}, Val Data: {}, Test Data: {}\".format(train_data_big.shape[0], val_data_big.shape[0], test_data_big.shape[0]))\n",
    "\n",
    "# # making data set smaller for faster compile\n",
    "\n",
    "# _, train_data = train_test_split(train_data_big, test_size=0.2, random_state=42)\n",
    "# _, test_data = train_test_split(test_data_big, test_size=0.2, random_state=42)\n",
    "# _, val_data = train_test_split(val_data_big, test_size=0.2, random_state=42)\n",
    "\n",
    "# print(\"Train data : {}, Val Data: {}, Test Data: {}\".format(train_data.shape[0], val_data.shape[0], test_data.shape[0]))"
   ]
  },
  {
   "cell_type": "markdown",
   "id": "48969688",
   "metadata": {},
   "source": [
    "# EDA\n",
    "Exploring the data set"
   ]
  },
  {
   "cell_type": "code",
   "execution_count": 3,
   "id": "d8f0c168",
   "metadata": {},
   "outputs": [
    {
     "data": {
      "text/html": [
       "<div>\n",
       "<style scoped>\n",
       "    .dataframe tbody tr th:only-of-type {\n",
       "        vertical-align: middle;\n",
       "    }\n",
       "\n",
       "    .dataframe tbody tr th {\n",
       "        vertical-align: top;\n",
       "    }\n",
       "\n",
       "    .dataframe thead th {\n",
       "        text-align: right;\n",
       "    }\n",
       "</style>\n",
       "<table border=\"1\" class=\"dataframe\">\n",
       "  <thead>\n",
       "    <tr style=\"text-align: right;\">\n",
       "      <th></th>\n",
       "      <th>InstanceID</th>\n",
       "      <th>patientID</th>\n",
       "      <th>ImageName</th>\n",
       "      <th>cellTypeName</th>\n",
       "      <th>cellType</th>\n",
       "      <th>isCancerous</th>\n",
       "    </tr>\n",
       "  </thead>\n",
       "  <tbody>\n",
       "    <tr>\n",
       "      <th>9533</th>\n",
       "      <td>22266</td>\n",
       "      <td>58</td>\n",
       "      <td>22266.png</td>\n",
       "      <td>fibroblast</td>\n",
       "      <td>0</td>\n",
       "      <td>0</td>\n",
       "    </tr>\n",
       "    <tr>\n",
       "      <th>310</th>\n",
       "      <td>18717</td>\n",
       "      <td>4</td>\n",
       "      <td>18717.png</td>\n",
       "      <td>others</td>\n",
       "      <td>3</td>\n",
       "      <td>0</td>\n",
       "    </tr>\n",
       "    <tr>\n",
       "      <th>9480</th>\n",
       "      <td>21202</td>\n",
       "      <td>57</td>\n",
       "      <td>21202.png</td>\n",
       "      <td>inflammatory</td>\n",
       "      <td>1</td>\n",
       "      <td>0</td>\n",
       "    </tr>\n",
       "    <tr>\n",
       "      <th>7073</th>\n",
       "      <td>18114</td>\n",
       "      <td>44</td>\n",
       "      <td>18114.png</td>\n",
       "      <td>fibroblast</td>\n",
       "      <td>0</td>\n",
       "      <td>0</td>\n",
       "    </tr>\n",
       "    <tr>\n",
       "      <th>8977</th>\n",
       "      <td>14070</td>\n",
       "      <td>54</td>\n",
       "      <td>14070.png</td>\n",
       "      <td>epithelial</td>\n",
       "      <td>2</td>\n",
       "      <td>1</td>\n",
       "    </tr>\n",
       "  </tbody>\n",
       "</table>\n",
       "</div>"
      ],
      "text/plain": [
       "      InstanceID  patientID  ImageName  cellTypeName  cellType  isCancerous\n",
       "9533       22266         58  22266.png    fibroblast         0            0\n",
       "310        18717          4  18717.png        others         3            0\n",
       "9480       21202         57  21202.png  inflammatory         1            0\n",
       "7073       18114         44  18114.png    fibroblast         0            0\n",
       "8977       14070         54  14070.png    epithelial         2            1"
      ]
     },
     "execution_count": 3,
     "metadata": {},
     "output_type": "execute_result"
    }
   ],
   "source": [
    "train_data.head()"
   ]
  },
  {
   "cell_type": "code",
   "execution_count": 4,
   "id": "4a551abc",
   "metadata": {},
   "outputs": [
    {
     "name": "stdout",
     "output_type": "stream",
     "text": [
      "<class 'pandas.core.frame.DataFrame'>\n",
      "Int64Index: 5937 entries, 9533 to 9349\n",
      "Data columns (total 6 columns):\n",
      " #   Column        Non-Null Count  Dtype \n",
      "---  ------        --------------  ----- \n",
      " 0   InstanceID    5937 non-null   int64 \n",
      " 1   patientID     5937 non-null   int64 \n",
      " 2   ImageName     5937 non-null   object\n",
      " 3   cellTypeName  5937 non-null   object\n",
      " 4   cellType      5937 non-null   int64 \n",
      " 5   isCancerous   5937 non-null   int64 \n",
      "dtypes: int64(4), object(2)\n",
      "memory usage: 324.7+ KB\n"
     ]
    }
   ],
   "source": [
    "train_data.info()"
   ]
  },
  {
   "cell_type": "code",
   "execution_count": 5,
   "id": "90f1eabe",
   "metadata": {},
   "outputs": [
    {
     "data": {
      "text/plain": [
       "(array([1888., 2543., 4079., 1386.]),\n",
       " array([0, 1, 2, 3, 4]),\n",
       " <BarContainer object of 4 artists>)"
      ]
     },
     "execution_count": 5,
     "metadata": {},
     "output_type": "execute_result"
    },
    {
     "data": {
      "image/png": "[encoded data removed]",
      "text/plain": [
       "<Figure size 432x288 with 1 Axes>"
      ]
     },
     "metadata": {
      "needs_background": "light"
     },
     "output_type": "display_data"
    }
   ],
   "source": [
    "import matplotlib.pyplot as plt\n",
    "\n",
    "target = data['cellType']\n",
    "\n",
    "plt.hist(target, bins=np.arange(5))"
   ]
  },
  {
   "cell_type": "code",
   "execution_count": 6,
   "id": "a7cf5f39",
   "metadata": {},
   "outputs": [
    {
     "data": {
      "image/png": "[encoded data removed]",
      "text/plain": [
       "<Figure size 1440x1800 with 3 Axes>"
      ]
     },
     "metadata": {
      "needs_background": "light"
     },
     "output_type": "display_data"
    }
   ],
   "source": [
    "plt.figure(figsize=(20,25))\n",
    "for i, col in enumerate(['cellTypeName','cellType', 'isCancerous']):\n",
    "    plt.subplot(4,5,i+1)\n",
    "    _, bins, _ = plt.hist(data[col], alpha=0.3, color='r', density=True)\n",
    "    plt.title(col)\n",
    "    plt.xticks(rotation='vertical')"
   ]
  },
  {
   "cell_type": "code",
   "execution_count": 50,
   "id": "7ed4c151",
   "metadata": {},
   "outputs": [
    {
     "data": {
      "image/png": "[encoded data removed]",
      "text/plain": [
       "<Figure size 1440x1800 with 3 Axes>"
      ]
     },
     "metadata": {
      "needs_background": "light"
     },
     "output_type": "display_data"
    }
   ],
   "source": [
    "plt.figure(figsize=(20,25))\n",
    "for i, col in enumerate(['cellTypeName','cellType', 'isCancerous']):\n",
    "    plt.subplot(4,5,i+1)\n",
    "    _, bins, _ = plt.hist(train_data[col], alpha=0.3, color='r', density=True)\n",
    "    _, bins2, _ = plt.hist(test_data[col], bins=bins, alpha=0.3, color='g', density=True)\n",
    "    plt.hist(val_data[col], bins=bins2, alpha=0.3, color='b', density=True)\n",
    "    plt.title(col)\n",
    "    plt.xticks(rotation='vertical')"
   ]
  },
  {
   "cell_type": "code",
   "execution_count": 21,
   "id": "d3b4a39e",
   "metadata": {},
   "outputs": [
    {
     "data": {
      "image/png": "[encoded data removed]",
      "text/plain": [
       "<Figure size 720x720 with 4 Axes>"
      ]
     },
     "metadata": {
      "needs_background": "light"
     },
     "output_type": "display_data"
    }
   ],
   "source": [
    "from PIL import Image\n",
    "\n",
    "label_names = {'fibroblast' : 0, 'inflammatory' : 1, 'epithelial' : 2, 'others' : 3}\n",
    "d_inv = {v: k for k, v in label_names.items()}\n",
    "\n",
    "img_list = list('./patch_images/'+train_data['ImageName'])\n",
    "target = train_data['cellType']\n",
    "target_list = list(target)\n",
    "\n",
    "fig = plt.figure(figsize=[10,10])\n",
    "\n",
    "for i in np.arange(4):\n",
    "    plt.subplot(1, 4, i+1)\n",
    "    img = Image.open(img_list[i])\n",
    "    \n",
    "    plt.imshow(img)\n",
    "    plt.title(d_inv[int(target_list[i])])"
   ]
  },
  {
   "cell_type": "code",
   "execution_count": 22,
   "id": "5ca1c775",
   "metadata": {},
   "outputs": [
    {
     "name": "stdout",
     "output_type": "stream",
     "text": [
      "Image size \n",
      "H:27 W:27 C:3\n"
     ]
    }
   ],
   "source": [
    "# check image size\n",
    "\n",
    "img = Image.open(img_list[100])\n",
    "img_numpy = np.ascontiguousarray(img, dtype=np.float32)\n",
    "print('Image size \\nH:{} W:{} C:{}'.format(img_numpy.shape[0], img_numpy.shape[1], img_numpy.shape[2]))"
   ]
  },
  {
   "cell_type": "markdown",
   "id": "d72e4a15",
   "metadata": {},
   "source": [
    "### Observations\n",
    "1. We observe that the data is evenly distributed among the train, test and validation sets.\n",
    "2. The cell type data is slightly imbalanced as there are more sample of epithelial compared to the rest, but it is not too skewed such as a 1:9 thus we decide to keep it as is"
   ]
  },
  {
   "cell_type": "markdown",
   "id": "d8656870",
   "metadata": {},
   "source": [
    "### Further setups"
   ]
  },
  {
   "cell_type": "code",
   "execution_count": 3,
   "id": "98ef2946",
   "metadata": {},
   "outputs": [],
   "source": [
    "# learning curve function\n",
    "import matplotlib.pyplot as plt\n",
    "def plot_learning_curve(train_loss, val_loss, train_metric, val_metric, metric_name='Accuracy'):\n",
    "    plt.figure(figsize=(10,5))\n",
    "    \n",
    "    plt.subplot(1,2,1)\n",
    "    plt.plot(train_loss, 'r--')\n",
    "    plt.plot(val_loss, 'b--')\n",
    "    plt.xlabel(\"epochs\")\n",
    "    plt.ylabel(\"Loss\")\n",
    "    plt.legend(['train', 'val'], loc='upper left')\n",
    "\n",
    "    plt.subplot(1,2,2)\n",
    "    plt.plot(train_metric, 'r--')\n",
    "    plt.plot(val_metric, 'b--')\n",
    "    plt.xlabel(\"epochs\")\n",
    "    plt.ylabel(metric_name)\n",
    "    plt.legend(['train', 'val'], loc='upper left')\n",
    "\n",
    "    plt.show()"
   ]
  },
  {
   "cell_type": "code",
   "execution_count": 4,
   "id": "79d3f734",
   "metadata": {},
   "outputs": [],
   "source": [
    "# cellType needs to be string\n",
    "train_data['cellType'] = train_data['cellType'].astype('str')\n",
    "val_data['cellType'] = val_data['cellType'].astype('str')"
   ]
  },
  {
   "cell_type": "markdown",
   "id": "d19c6b6f",
   "metadata": {},
   "source": [
    "# 1) NN model as Base model\n",
    "We will use a simple NN model using Keras Sequential for our base model"
   ]
  },
  {
   "cell_type": "markdown",
   "id": "ec640e50",
   "metadata": {},
   "source": [
    "### Setting up generators"
   ]
  },
  {
   "cell_type": "code",
   "execution_count": 5,
   "id": "3a2d958b",
   "metadata": {},
   "outputs": [
    {
     "name": "stdout",
     "output_type": "stream",
     "text": [
      "Found 5937 validated image filenames belonging to 4 classes.\n",
      "Found 1979 validated image filenames belonging to 4 classes.\n"
     ]
    }
   ],
   "source": [
    "import tensorflow as tf\n",
    "INPUT_DIM = (27,27,3)\n",
    "HIDDEN_LAYER_DIM = 256\n",
    "OUTPUT_CLASSES = 4\n",
    "\n",
    "from tensorflow.keras.preprocessing.image import ImageDataGenerator\n",
    "\n",
    "train_datagen = ImageDataGenerator(rescale=1./255, data_format='channels_last')\n",
    "val_datagen = ImageDataGenerator(rescale=1./255, data_format='channels_last')\n",
    "\n",
    "batch_size = 32\n",
    "\n",
    "train_generator = train_datagen.flow_from_dataframe(\n",
    "        dataframe=train_data,\n",
    "        directory='./patch_images/',\n",
    "        x_col=\"ImageName\",\n",
    "        y_col=\"cellType\",\n",
    "        target_size=(27, 27),\n",
    "        batch_size=batch_size,\n",
    "        class_mode='categorical')\n",
    "\n",
    "validation_generator = val_datagen.flow_from_dataframe(\n",
    "        dataframe=val_data,\n",
    "        directory='./patch_images/',\n",
    "        x_col=\"ImageName\",\n",
    "        y_col=\"cellType\",\n",
    "        target_size=(27, 27),\n",
    "        batch_size=batch_size,\n",
    "        class_mode='categorical')"
   ]
  },
  {
   "cell_type": "markdown",
   "id": "842f21fe",
   "metadata": {},
   "source": [
    "### Setting up base model\n",
    "Parameter settings for the base model:\n",
    "1. units = HIDDEN_LAYER_DIM = 256\n",
    "2. no reg\n",
    "3. no dropout\n",
    "4. sigmoid activation\n",
    "5. epochs = 150\n",
    "\n",
    "These values are estimates and would be change accordingly during hyperparameters tuning"
   ]
  },
  {
   "cell_type": "code",
   "execution_count": 24,
   "id": "fe4d842b",
   "metadata": {},
   "outputs": [
    {
     "data": {
      "image/png": "[encoded data removed]",
      "text/plain": [
       "<IPython.core.display.Image object>"
      ]
     },
     "execution_count": 24,
     "metadata": {},
     "output_type": "execute_result"
    }
   ],
   "source": [
    "# base_model\n",
    "# initialize layers\n",
    "base_model = tf.keras.Sequential([\n",
    "    tf.keras.layers.Flatten(input_shape=INPUT_DIM),\n",
    "    tf.keras.layers.Dense(units=HIDDEN_LAYER_DIM, activation='sigmoid'),\n",
    "    tf.keras.layers.Dense(OUTPUT_CLASSES)\n",
    "])\n",
    "\n",
    "tf.keras.utils.plot_model(base_model, show_shapes=True)"
   ]
  },
  {
   "cell_type": "code",
   "execution_count": 11,
   "id": "3586c791",
   "metadata": {},
   "outputs": [
    {
     "name": "stdout",
     "output_type": "stream",
     "text": [
      "WARNING:tensorflow:From <ipython-input-11-63d72c08fb92>:15: Model.fit_generator (from tensorflow.python.keras.engine.training) is deprecated and will be removed in a future version.\n",
      "Instructions for updating:\n",
      "Please use Model.fit, which supports generators.\n"
     ]
    },
    {
     "data": {
      "image/png": "[encoded data removed]",
      "text/plain": [
       "<Figure size 720x360 with 2 Axes>"
      ]
     },
     "metadata": {
      "needs_background": "light"
     },
     "output_type": "display_data"
    }
   ],
   "source": [
    "# compile model\n",
    "base_model.compile(optimizer='SGD',\n",
    "              loss=tf.keras.losses.CategoricalCrossentropy(from_logits=True),\n",
    "              metrics=['categorical_accuracy'])\n",
    "\n",
    "# fit model\n",
    "history_base_model = base_model.fit_generator(train_generator, validation_data = validation_generator, epochs=150, verbose=0)\n",
    "\n",
    "# # plot model performance\n",
    "plot_learning_curve(history_base_model.history['loss'], history_base_model.history['val_loss'], \n",
    "                    history_base_model.history['categorical_accuracy'], history_base_model.history['val_categorical_accuracy'], \n",
    "                    metric_name='Categorical Accuracy')"
   ]
  },
  {
   "cell_type": "markdown",
   "id": "ed5ead67",
   "metadata": {},
   "source": [
    "### Hyperparameters tuning for base model using Keras Tuner\n",
    "We will be adding l2 regularization in this tuning as well as a dropout layer\n",
    "We will be using keras tuner to tune the following hyperparameters:\n",
    "1. Dense layer units value (HIDDEN_LAYER_DIM)\n",
    "2. l2 regularization lambda value\n",
    "3. dropout value\n",
    "4. Dense layer activation function\n",
    "\n",
    "We will be using epochs = 75 for the Hyperband as we observe in the base model that the performance converges approximately at 50"
   ]
  },
  {
   "cell_type": "code",
   "execution_count": 13,
   "id": "4888f1fb",
   "metadata": {},
   "outputs": [],
   "source": [
    "import kerastuner as kt\n",
    "from tensorflow import keras\n",
    "from tensorflow.keras import layers\n",
    "\n",
    "def model_builder(hp):\n",
    "    # Dense layer unit value\n",
    "    hp_units = hp.Int('units', min_value=192, max_value=320, step=32)\n",
    "    # Regularization lambda value\n",
    "    hp_reg_lambdas = hp.Choice('reg_lambda', values=[0.001, 0.005, 0.01])\n",
    "    # dropout value\n",
    "    hp_dropouts = hp.Float('dropout', min_value=0, max_value=0.5, step=0.1)\n",
    "    \n",
    "    # initialize layers\n",
    "    model = tf.keras.Sequential([\n",
    "        tf.keras.layers.Flatten(input_shape=INPUT_DIM),\n",
    "        tf.keras.layers.Dense(units=hp_units, activation='sigmoid', kernel_regularizer=tf.keras.regularizers.l2(hp_reg_lambdas)),\n",
    "        tf.keras.layers.Dropout(hp_dropouts),\n",
    "        tf.keras.layers.Dense(OUTPUT_CLASSES, kernel_regularizer=tf.keras.regularizers.l2(hp_reg_lambdas))\n",
    "    ])\n",
    "    \n",
    "    # compile model\n",
    "    model.compile(optimizer='SGD',\n",
    "              loss=tf.keras.losses.CategoricalCrossentropy(from_logits=True),\n",
    "              metrics=['categorical_accuracy'])\n",
    "\n",
    "    return model\n",
    "\n",
    "# Instantiate the tuner and perform hypertuning\n",
    "tuner_base_model = kt.Hyperband(model_builder,\n",
    "                     objective='val_categorical_accuracy',\n",
    "                     max_epochs=75,\n",
    "                     factor=3,\n",
    "                     directory='keras_tuner_dir',\n",
    "                     project_name='v1')\n",
    "\n",
    "# Early stopping callback\n",
    "stop_early = tf.keras.callbacks.EarlyStopping(monitor='val_loss', patience=5)\n",
    "\n",
    "# extracting the image and labels from the generators as search function does not support generators directly\n",
    "train_img,train_lables = train_generator.next()\n",
    "val_img,val_lables = validation_generator.next()"
   ]
  },
  {
   "cell_type": "code",
   "execution_count": 14,
   "id": "e65bb96e",
   "metadata": {},
   "outputs": [
    {
     "name": "stdout",
     "output_type": "stream",
     "text": [
      "Trial 90 Complete [00h 00m 01s]\n",
      "val_categorical_accuracy: 0.28125\n",
      "\n",
      "Best val_categorical_accuracy So Far: 0.40625\n",
      "Total elapsed time: 00h 01m 40s\n",
      "INFO:tensorflow:Oracle triggered exit\n",
      "\n",
      " units: 320\n",
      " lamda: 0.001\n",
      " dropout: 0.2\n",
      "\n"
     ]
    }
   ],
   "source": [
    "# Execute search\n",
    "tuner_base_model.search(train_img,train_lables,\n",
    "             validation_data=(val_img,val_lables),batch_size = 32, callbacks=[stop_early])\n",
    "\n",
    "# Print optimal hyperparameters\n",
    "best_hps_base_model=tuner_base_model.get_best_hyperparameters(num_trials=1)[0]\n",
    "\n",
    "print(f\"\"\"\n",
    " units: {best_hps_base_model.get('units')}\n",
    " lamda: {best_hps_base_model.get('reg_lambda')}\n",
    " dropout: {best_hps_base_model.get('dropout')}\n",
    "\"\"\")"
   ]
  },
  {
   "cell_type": "markdown",
   "id": "48ede897",
   "metadata": {},
   "source": [
    "Next we will build a model using the hyperparameters we got from keras tuner"
   ]
  },
  {
   "cell_type": "code",
   "execution_count": 15,
   "id": "8feae422",
   "metadata": {},
   "outputs": [
    {
     "data": {
      "image/png": "[encoded data removed]",
      "text/plain": [
       "<Figure size 720x360 with 2 Axes>"
      ]
     },
     "metadata": {
      "needs_background": "light"
     },
     "output_type": "display_data"
    }
   ],
   "source": [
    "# base_model_tuned\n",
    "# initialize layers\n",
    "base_model_tuned = tf.keras.Sequential([\n",
    "        tf.keras.layers.Flatten(input_shape=INPUT_DIM),\n",
    "        tf.keras.layers.Dense(units=320, activation=\"sigmoid\", kernel_regularizer=tf.keras.regularizers.l2(0.001)),\n",
    "        tf.keras.layers.Dropout(0.2),\n",
    "        tf.keras.layers.Dense(OUTPUT_CLASSES, kernel_regularizer=tf.keras.regularizers.l2(0.001))\n",
    "    ])\n",
    "\n",
    "# compile model\n",
    "base_model_tuned.compile(optimizer='SGD',\n",
    "              loss=tf.keras.losses.CategoricalCrossentropy(from_logits=True),\n",
    "              metrics=['categorical_accuracy'])\n",
    "\n",
    "# fit model\n",
    "history_base_model_tuned = base_model_tuned.fit_generator(train_generator, validation_data = validation_generator, epochs=75, verbose=0)\n",
    "\n",
    "# plot model performance\n",
    "plot_learning_curve(history_base_model_tuned.history['loss'], history_base_model_tuned.history['val_loss'], \n",
    "                    history_base_model_tuned.history['categorical_accuracy'], history_base_model_tuned.history['val_categorical_accuracy'], \n",
    "                    metric_name='Categorical Accuracy')"
   ]
  },
  {
   "cell_type": "markdown",
   "id": "aedc0648",
   "metadata": {},
   "source": [
    "## Testing the base models\n",
    "Testing the base models with our test set"
   ]
  },
  {
   "cell_type": "code",
   "execution_count": 17,
   "id": "489cb979",
   "metadata": {},
   "outputs": [
    {
     "name": "stdout",
     "output_type": "stream",
     "text": [
      "Found 1980 validated image filenames belonging to 4 classes.\n"
     ]
    },
    {
     "name": "stderr",
     "output_type": "stream",
     "text": [
      "<ipython-input-17-2cefe04de54d>:2: SettingWithCopyWarning: \n",
      "A value is trying to be set on a copy of a slice from a DataFrame.\n",
      "Try using .loc[row_indexer,col_indexer] = value instead\n",
      "\n",
      "See the caveats in the documentation: https://pandas.pydata.org/pandas-docs/stable/user_guide/indexing.html#returning-a-view-versus-a-copy\n",
      "  test_data['cellType'] = test_data['cellType'].astype('str')\n"
     ]
    }
   ],
   "source": [
    "# Initialize test generator\n",
    "test_data['cellType'] = test_data['cellType'].astype('str')\n",
    "test_datagen = ImageDataGenerator(rescale=1./255, data_format='channels_last')\n",
    "batch_size = 1\n",
    "test_generator = test_datagen.flow_from_dataframe(\n",
    "        dataframe=test_data,\n",
    "        directory='./patch_images/',\n",
    "        x_col=\"ImageName\",\n",
    "        y_col=\"cellType\",\n",
    "        target_size=(27, 27),\n",
    "        batch_size=batch_size,\n",
    "        class_mode='categorical')\n",
    "\n",
    "test_img,test_labels = test_generator.next()"
   ]
  },
  {
   "cell_type": "code",
   "execution_count": 20,
   "id": "872983f6",
   "metadata": {},
   "outputs": [
    {
     "name": "stdout",
     "output_type": "stream",
     "text": [
      "1980/1980 [==============================] - 18s 9ms/step - loss: 0.7904 - categorical_accuracy: 0.7035\n"
     ]
    },
    {
     "data": {
      "text/plain": [
       "[0.7904261946678162, 0.7035353779792786]"
      ]
     },
     "execution_count": 20,
     "metadata": {},
     "output_type": "execute_result"
    }
   ],
   "source": [
    "# Base model\n",
    "base_model.evaluate(test_generator)"
   ]
  },
  {
   "cell_type": "code",
   "execution_count": 18,
   "id": "89b1e326",
   "metadata": {},
   "outputs": [
    {
     "name": "stdout",
     "output_type": "stream",
     "text": [
      "1980/1980 [==============================] - 5s 2ms/step - loss: 1.1909 - categorical_accuracy: 0.6778\n"
     ]
    },
    {
     "data": {
      "text/plain": [
       "[1.1908752918243408, 0.6777777671813965]"
      ]
     },
     "execution_count": 18,
     "metadata": {},
     "output_type": "execute_result"
    }
   ],
   "source": [
    "# Base model tuned\n",
    "base_model_tuned.evaluate(test_generator)"
   ]
  },
  {
   "cell_type": "markdown",
   "id": "b835a81a",
   "metadata": {},
   "source": [
    "Obervation: "
   ]
  },
  {
   "cell_type": "markdown",
   "id": "16752b47",
   "metadata": {},
   "source": [
    "# 2) CNN model\n",
    "Next we will experiment using CNN models such as leNet and VGG models to classify the images."
   ]
  },
  {
   "cell_type": "code",
   "execution_count": 19,
   "id": "071457ab",
   "metadata": {},
   "outputs": [],
   "source": [
    "reg_lambda = 0.001\n",
    "OUTPUT_CLASSES = 4\n",
    "\n",
    "model_leNet = tf.keras.Sequential([\n",
    "    tf.keras.layers.Input(shape=(27, 27, 3)),\n",
    "    tf.keras.layers.Lambda(lambda x: tf.expand_dims(x[:,:,:,0], -1, name=None)),\n",
    "    \n",
    "    \n",
    "    tf.keras.layers.Conv2D(32, (3, 3), kernel_regularizer=tf.keras.regularizers.l2(reg_lambda)),\n",
    "    tf.keras.layers.Activation('relu'),\n",
    "    tf.keras.layers.MaxPool2D(pool_size=(2,2)),\n",
    "    \n",
    "    tf.keras.layers.Conv2D(32, (3, 3), kernel_regularizer=tf.keras.regularizers.l2(reg_lambda)),\n",
    "    tf.keras.layers.Activation('relu'),\n",
    "    \n",
    "    tf.keras.layers.Conv2D(64, (3, 3)),\n",
    "    tf.keras.layers.Activation('relu'),\n",
    "    tf.keras.layers.MaxPool2D(pool_size=(2,2)),\n",
    "    \n",
    "    tf.keras.layers.Flatten(),\n",
    "    \n",
    "    tf.keras.layers.Dense(64),\n",
    "    tf.keras.layers.Activation('relu'),\n",
    "    tf.keras.layers.Dropout(0.5),\n",
    "    tf.keras.layers.Dense(OUTPUT_CLASSES, activation='softmax', kernel_regularizer=tf.keras.regularizers.l2(reg_lambda))\n",
    "])"
   ]
  },
  {
   "cell_type": "code",
   "execution_count": 20,
   "id": "1dfc5266",
   "metadata": {},
   "outputs": [],
   "source": [
    "sgd = tf.keras.optimizers.SGD(lr=0.01, decay=1e-6, momentum=0.9, nesterov=True)\n",
    "model_leNet.compile(optimizer=sgd,\n",
    "              loss=tf.keras.losses.CategoricalCrossentropy(from_logits=False),\n",
    "              metrics=['categorical_accuracy'])\n",
    "\n",
    "history = model_leNet.fit_generator(train_generator, \n",
    "                                    validation_data = validation_generator, \n",
    "                                    epochs=100, verbose=0)"
   ]
  },
  {
   "cell_type": "code",
   "execution_count": null,
   "id": "f14c168f",
   "metadata": {},
   "outputs": [],
   "source": []
  }
 ],
 "metadata": {
  "kernelspec": {
   "display_name": "Python 3",
   "language": "python",
   "name": "python3"
  },
  "language_info": {
   "codemirror_mode": {
    "name": "ipython",
    "version": 3
   },
   "file_extension": ".py",
   "mimetype": "text/x-python",
   "name": "python",
   "nbconvert_exporter": "python",
   "pygments_lexer": "ipython3",
   "version": "3.8.8"
  }
 },
 "nbformat": 4,
 "nbformat_minor": 5
}
